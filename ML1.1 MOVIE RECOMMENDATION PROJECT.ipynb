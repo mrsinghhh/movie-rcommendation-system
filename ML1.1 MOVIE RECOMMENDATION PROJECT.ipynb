{
 "cells": [
  {
   "cell_type": "markdown",
   "id": "2dd3e84c",
   "metadata": {},
   "source": [
    "# IMPORTING SOME REQUIRED LIBRARY "
   ]
  },
  {
   "cell_type": "code",
   "execution_count": 6,
   "id": "89bb5c03",
   "metadata": {},
   "outputs": [],
   "source": [
    "import numpy as np\n",
    "import pandas as pd\n",
    "import warnings "
   ]
  },
  {
   "cell_type": "code",
   "execution_count": 7,
   "id": "69ad8f08",
   "metadata": {},
   "outputs": [],
   "source": [
    "warnings.filterwarnings(\"ignore\")"
   ]
  },
  {
   "cell_type": "markdown",
   "id": "81cfb69c",
   "metadata": {},
   "source": [
    "# GETTING DATASET"
   ]
  },
  {
   "cell_type": "code",
   "execution_count": 9,
   "id": "7ba19e78",
   "metadata": {},
   "outputs": [
    {
     "data": {
      "text/html": [
       "<div>\n",
       "<style scoped>\n",
       "    .dataframe tbody tr th:only-of-type {\n",
       "        vertical-align: middle;\n",
       "    }\n",
       "\n",
       "    .dataframe tbody tr th {\n",
       "        vertical-align: top;\n",
       "    }\n",
       "\n",
       "    .dataframe thead th {\n",
       "        text-align: right;\n",
       "    }\n",
       "</style>\n",
       "<table border=\"1\" class=\"dataframe\">\n",
       "  <thead>\n",
       "    <tr style=\"text-align: right;\">\n",
       "      <th></th>\n",
       "      <th>user_id</th>\n",
       "      <th>item_id</th>\n",
       "      <th>rating</th>\n",
       "      <th>timestamp</th>\n",
       "    </tr>\n",
       "  </thead>\n",
       "  <tbody>\n",
       "    <tr>\n",
       "      <th>0</th>\n",
       "      <td>196</td>\n",
       "      <td>242</td>\n",
       "      <td>3</td>\n",
       "      <td>881250949</td>\n",
       "    </tr>\n",
       "    <tr>\n",
       "      <th>1</th>\n",
       "      <td>186</td>\n",
       "      <td>302</td>\n",
       "      <td>3</td>\n",
       "      <td>891717742</td>\n",
       "    </tr>\n",
       "    <tr>\n",
       "      <th>2</th>\n",
       "      <td>22</td>\n",
       "      <td>377</td>\n",
       "      <td>1</td>\n",
       "      <td>878887116</td>\n",
       "    </tr>\n",
       "    <tr>\n",
       "      <th>3</th>\n",
       "      <td>244</td>\n",
       "      <td>51</td>\n",
       "      <td>2</td>\n",
       "      <td>880606923</td>\n",
       "    </tr>\n",
       "    <tr>\n",
       "      <th>4</th>\n",
       "      <td>166</td>\n",
       "      <td>346</td>\n",
       "      <td>1</td>\n",
       "      <td>886397596</td>\n",
       "    </tr>\n",
       "    <tr>\n",
       "      <th>...</th>\n",
       "      <td>...</td>\n",
       "      <td>...</td>\n",
       "      <td>...</td>\n",
       "      <td>...</td>\n",
       "    </tr>\n",
       "    <tr>\n",
       "      <th>99995</th>\n",
       "      <td>880</td>\n",
       "      <td>476</td>\n",
       "      <td>3</td>\n",
       "      <td>880175444</td>\n",
       "    </tr>\n",
       "    <tr>\n",
       "      <th>99996</th>\n",
       "      <td>716</td>\n",
       "      <td>204</td>\n",
       "      <td>5</td>\n",
       "      <td>879795543</td>\n",
       "    </tr>\n",
       "    <tr>\n",
       "      <th>99997</th>\n",
       "      <td>276</td>\n",
       "      <td>1090</td>\n",
       "      <td>1</td>\n",
       "      <td>874795795</td>\n",
       "    </tr>\n",
       "    <tr>\n",
       "      <th>99998</th>\n",
       "      <td>13</td>\n",
       "      <td>225</td>\n",
       "      <td>2</td>\n",
       "      <td>882399156</td>\n",
       "    </tr>\n",
       "    <tr>\n",
       "      <th>99999</th>\n",
       "      <td>12</td>\n",
       "      <td>203</td>\n",
       "      <td>3</td>\n",
       "      <td>879959583</td>\n",
       "    </tr>\n",
       "  </tbody>\n",
       "</table>\n",
       "<p>100000 rows × 4 columns</p>\n",
       "</div>"
      ],
      "text/plain": [
       "       user_id  item_id  rating  timestamp\n",
       "0          196      242       3  881250949\n",
       "1          186      302       3  891717742\n",
       "2           22      377       1  878887116\n",
       "3          244       51       2  880606923\n",
       "4          166      346       1  886397596\n",
       "...        ...      ...     ...        ...\n",
       "99995      880      476       3  880175444\n",
       "99996      716      204       5  879795543\n",
       "99997      276     1090       1  874795795\n",
       "99998       13      225       2  882399156\n",
       "99999       12      203       3  879959583\n",
       "\n",
       "[100000 rows x 4 columns]"
      ]
     },
     "execution_count": 9,
     "metadata": {},
     "output_type": "execute_result"
    }
   ],
   "source": [
    "#1.ACCESING THE u.data FILE FROM THE DATASETS\n",
    "col_name=[\"user_id\",\"item_id\",\"rating\",\"timestamp\"]#assigning name to columns\n",
    "df=pd.read_csv(\"D:\\Study\\MACHINE LEARNING\\project1\\ml-100k\\\\u.data\",sep='\\t',names=col_name)\n",
    "# files data are seprated with tab so here we mention the seprater which is in our data\n",
    "df.head(10)\n",
    "df"
   ]
  },
  {
   "cell_type": "code",
   "execution_count": null,
   "id": "ec27a976",
   "metadata": {},
   "outputs": [],
   "source": [
    "#checking number of unique user_id{i.e user}in dataset\n",
    "df[\"user_id\"].nunique()"
   ]
  },
  {
   "cell_type": "code",
   "execution_count": null,
   "id": "5ef5916b",
   "metadata": {},
   "outputs": [],
   "source": [
    "#checking the number of unique item_id{i.e movies} in dataset\n",
    "df[\"item_id\"].nunique()"
   ]
  },
  {
   "cell_type": "code",
   "execution_count": null,
   "id": "45253277",
   "metadata": {},
   "outputs": [],
   "source": [
    "#2.ACCESSING THE u.item FROM DATASET\n",
    "movie_titles=pd.read_csv(\"D:\\\\Study\\\\project1\\\\ml-100k\\\\u.item\",sep=\"\\|\",header=None,encoding_errors= 'replace')\n",
    "movie_titles.head()"
   ]
  },
  {
   "cell_type": "code",
   "execution_count": null,
   "id": "74b38cf7",
   "metadata": {},
   "outputs": [],
   "source": [
    "#WE NEED ONLY 1ST AND 2ND COLUMN OF u.item dataset\n",
    "\n",
    "movie_titles=movie_titles[[0,1]]\n",
    "movie_titles.columns=[\"item_id\",\"Title\"]\n",
    "movie_titles.head()"
   ]
  },
  {
   "cell_type": "code",
   "execution_count": null,
   "id": "e7e62ab0",
   "metadata": {},
   "outputs": [],
   "source": [
    "#merging the 2 tables data we accessed earlier\n",
    "#we need user_id,item_id,rating,timestamp,title\n",
    "#we use pandas merge function\n",
    "df2=pd.merge(df,movie_titles,on=\"item_id\")\n",
    "df2.head(10)\n",
    "df2.tail(10)"
   ]
  },
  {
   "cell_type": "markdown",
   "id": "056ee37b",
   "metadata": {},
   "source": [
    "# DATA ANALYSIS"
   ]
  },
  {
   "cell_type": "code",
   "execution_count": null,
   "id": "698a6692",
   "metadata": {},
   "outputs": [],
   "source": [
    "import matplotlib.pyplot as plt\n",
    "import seaborn as sns"
   ]
  },
  {
   "cell_type": "code",
   "execution_count": null,
   "id": "afff2751",
   "metadata": {},
   "outputs": [],
   "source": [
    "#calculated the mean of data frame which is group by title\n",
    "df2.groupby(\"Title\").mean()"
   ]
  },
  {
   "cell_type": "code",
   "execution_count": null,
   "id": "b0b3d10f",
   "metadata": {},
   "outputs": [],
   "source": [
    "#accesing the rating column from the mean of grouped movie\n",
    "df2.groupby(\"Title\").mean()[\"rating\"]"
   ]
  },
  {
   "cell_type": "code",
   "execution_count": null,
   "id": "a52278c8",
   "metadata": {},
   "outputs": [],
   "source": [
    "#sorting the dataframe we get above \n",
    "#to see highest rated movie\n",
    "df2.groupby(\"Title\").mean()[\"rating\"].sort_values(ascending=False)"
   ]
  },
  {
   "cell_type": "code",
   "execution_count": null,
   "id": "09ec4773",
   "metadata": {},
   "outputs": [],
   "source": [
    "#counting the number reviews\n",
    "#to see which movie has highest number reviews\n",
    "df2.groupby(\"Title\").count()[\"rating\"].sort_values(ascending=False)"
   ]
  },
  {
   "cell_type": "code",
   "execution_count": null,
   "id": "5435765b",
   "metadata": {},
   "outputs": [],
   "source": [
    "#CREATING RATING DATAFRAME\n",
    "rating=pd.DataFrame(df2.groupby(\"Title\").mean()[\"rating\"])\n",
    "rating"
   ]
  },
  {
   "cell_type": "code",
   "execution_count": null,
   "id": "a7e98db7",
   "metadata": {},
   "outputs": [],
   "source": [
    "#adding number of rating or count of movie rating in same  rating dataframe\n",
    "rating[\"number_of_rating\"]=pd.DataFrame(df2.groupby(\"Title\").count()[\"rating\"])\n",
    "rating"
   ]
  },
  {
   "cell_type": "code",
   "execution_count": null,
   "id": "26352d35",
   "metadata": {},
   "outputs": [],
   "source": [
    "#sorting out the rating dataframe\n",
    "rating.sort_values(by=\"rating\",ascending=False)"
   ]
  },
  {
   "cell_type": "code",
   "execution_count": null,
   "id": "988db08e",
   "metadata": {},
   "outputs": [],
   "source": [
    "#plotoing histogram for number of rating \n",
    "plt.figure(figsize=(10,6))\n",
    "plt.hist(rating[\"number_of_rating\"],bins=70)\n",
    "plt.xlabel(\"number_of_rating\")\n",
    "plt.ylabel(\"how many movies are rated with\")\n",
    "plt.show()"
   ]
  },
  {
   "cell_type": "code",
   "execution_count": null,
   "id": "8f41f538",
   "metadata": {},
   "outputs": [],
   "source": [
    "#plotting histogram for rating \n",
    "plt.hist(rating[\"rating\"],bins=70)\n",
    "plt.xlabel(\"average rating\")\n",
    "plt.ylabel(\"no of times\")\n",
    "plt.show()"
   ]
  },
  {
   "cell_type": "code",
   "execution_count": null,
   "id": "9dbc40b5",
   "metadata": {
    "scrolled": true
   },
   "outputs": [],
   "source": [
    "#combining two above histograms\n",
    "sns.jointplot(x=\"rating\",y=\"number_of_rating\",data=rating,alpha=0.5)"
   ]
  },
  {
   "cell_type": "code",
   "execution_count": null,
   "id": "dd74ae2a",
   "metadata": {
    "scrolled": true
   },
   "outputs": [],
   "source": [
    "df2"
   ]
  },
  {
   "cell_type": "markdown",
   "id": "21ee043c",
   "metadata": {},
   "source": [
    "# CREATING MOVIE RECOMMENDATIOIN\n"
   ]
  },
  {
   "cell_type": "code",
   "execution_count": null,
   "id": "99b06f26",
   "metadata": {},
   "outputs": [],
   "source": [
    "#creating a matrix with rows/index of user id and columns with movie titles\n",
    "moviemat=df2.pivot_table(index='user_id',columns='Title',values='rating')\n",
    "moviemat"
   ]
  },
  {
   "cell_type": "code",
   "execution_count": null,
   "id": "c2da0b1f",
   "metadata": {},
   "outputs": [],
   "source": [
    "#acccesing  user wise rating of the particular movie\n",
    "starwars_user_rating=moviemat[\"Star Wars (1977)\"]\n",
    "starwars_user_rating"
   ]
  },
  {
   "cell_type": "code",
   "execution_count": null,
   "id": "47e446ab",
   "metadata": {},
   "outputs": [],
   "source": [
    "#now we have to co fealate this starwars data  to maovie matrix table\n",
    "similar_to_starwars=moviemat.corrwith(starwars_user_rating)\n",
    "similar_to_starwars\n",
    "#the score obtain of the movie is called corelation\n",
    "# show show these movie is corelated with our given movie \n"
   ]
  },
  {
   "cell_type": "code",
   "execution_count": null,
   "id": "4d7f3ae9",
   "metadata": {},
   "outputs": [],
   "source": [
    "#converting given series to dataframe\n",
    "corr_starwars=pd.DataFrame(similar_to_starwars,columns=[\"corelations\"])\n",
    "corr_starwars"
   ]
  },
  {
   "cell_type": "code",
   "execution_count": null,
   "id": "17cf6d61",
   "metadata": {},
   "outputs": [],
   "source": [
    "#deleting NAN values\n",
    "corr_starwars.dropna(inplace=True)\n",
    "corr_starwars"
   ]
  },
  {
   "cell_type": "code",
   "execution_count": null,
   "id": "30095c84",
   "metadata": {},
   "outputs": [],
   "source": [
    "# arranging  the above data in descending order\n",
    "corr_starwars.sort_values(\"corelations\",ascending=False)"
   ]
  },
  {
   "cell_type": "code",
   "execution_count": null,
   "id": "05ff50ba",
   "metadata": {},
   "outputs": [],
   "source": [
    "#joining corr_starwars dataframe with rating data frame for getting number_of _rating\n",
    "corr_starwars=corr_starwars.join(rating[\"number_of_rating\"])\n",
    "corr_starwars"
   ]
  },
  {
   "cell_type": "code",
   "execution_count": null,
   "id": "bd8da176",
   "metadata": {},
   "outputs": [],
   "source": [
    "corr_starwars[corr_starwars['number_of_rating']>100].sort_values(\"corelations\",ascending=False)"
   ]
  },
  {
   "cell_type": "markdown",
   "id": "61d79e0a",
   "metadata": {},
   "source": [
    "# CREATING THE PREDICTION FUNCTION"
   ]
  },
  {
   "cell_type": "code",
   "execution_count": null,
   "id": "e9ee9bcc",
   "metadata": {},
   "outputs": [],
   "source": [
    "def predict_movie(movie_name):\n",
    "    movie_user_rating=moviemat[movie_name]\n",
    "    similar_to_movie=moviemat.corrwith(movie_user_rating)\n",
    "    \n",
    "    corr_movie=pd.DataFrame(similar_to_movie,columns=[\"corelations\"])\n",
    "    corr_movie.dropna(inplace=True)\n",
    "    \n",
    "    corr_movie=corr_movie.join(rating[\"number_of_rating\"])\n",
    "    \n",
    "    predictions=corr_movie[corr_movie['number_of_rating']>100].sort_values(\"corelations\",ascending=False)\n",
    "    \n",
    "    return predictions    "
   ]
  },
  {
   "cell_type": "code",
   "execution_count": null,
   "id": "8a340f51",
   "metadata": {},
   "outputs": [],
   "source": [
    "predict=predict_movie(\"Crash (1996)\")\n",
    "predict.head()"
   ]
  },
  {
   "cell_type": "code",
   "execution_count": null,
   "id": "fc267a98",
   "metadata": {},
   "outputs": [],
   "source": []
  },
  {
   "cell_type": "code",
   "execution_count": null,
   "id": "6ff5df1e",
   "metadata": {},
   "outputs": [],
   "source": []
  },
  {
   "cell_type": "code",
   "execution_count": null,
   "id": "2c107291",
   "metadata": {},
   "outputs": [],
   "source": []
  },
  {
   "cell_type": "code",
   "execution_count": null,
   "id": "11ad7ac9",
   "metadata": {},
   "outputs": [],
   "source": []
  },
  {
   "cell_type": "code",
   "execution_count": null,
   "id": "f759b29e",
   "metadata": {},
   "outputs": [],
   "source": []
  },
  {
   "cell_type": "code",
   "execution_count": null,
   "id": "f6a71230",
   "metadata": {},
   "outputs": [],
   "source": []
  }
 ],
 "metadata": {
  "kernelspec": {
   "display_name": "Python 3 (ipykernel)",
   "language": "python",
   "name": "python3"
  },
  "language_info": {
   "codemirror_mode": {
    "name": "ipython",
    "version": 3
   },
   "file_extension": ".py",
   "mimetype": "text/x-python",
   "name": "python",
   "nbconvert_exporter": "python",
   "pygments_lexer": "ipython3",
   "version": "3.9.12"
  }
 },
 "nbformat": 4,
 "nbformat_minor": 5
}
